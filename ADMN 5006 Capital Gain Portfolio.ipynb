{
 "cells": [
  {
   "attachments": {
    "image-2.png": {
     "image/png": "[encoded data removed]"
    }
   },
   "cell_type": "markdown",
   "id": "562d5328",
   "metadata": {},
   "source": [
    "![image-2.png](attachment:image-2.png)\n",
    "### ADMN5006: Financial Analytics\n",
    "#### Final Project\n",
    "Asharani Sukumaran Nair, Donovan Bangs, Maria Isabel Dio Grau, Xiuhao Shuai"
   ]
  },
  {
   "cell_type": "markdown",
   "id": "d3f9d4ba",
   "metadata": {},
   "source": [
    "***"
   ]
  },
  {
   "cell_type": "markdown",
   "id": "f4b4f142",
   "metadata": {},
   "source": [
    "### <b><span style=\"color:red\"> **Add links</span></b>\n",
    "\n",
    "<a href='#historical'>Historical Stock Performance</a><br>\n",
    "<a href='#corr'>Covariance and Correlation</a><br>\n",
    "<a href='#montecarlo'>Monte Carlo Analysis</a><br>\n",
    "<a href='#portfolio'>Portfolio Optimization</a><br>\n",
    "<a href='#scenario'>Scenario Analysis</a><br>"
   ]
  },
  {
   "cell_type": "code",
   "execution_count": 2,
   "id": "8cb56137",
   "metadata": {},
   "outputs": [],
   "source": [
    "import numpy as np\n",
    "import pandas as pd\n",
    "from datetime import datetime\n",
    "from pandas_datareader import data as pdr\n",
    "import matplotlib.pyplot as plt\n",
    "import yfinance as yfin\n",
    "yfin.pdr_override()\n",
    "import math\n",
    "from scipy.stats import norm\n",
    "import seaborn"
   ]
  },
  {
   "cell_type": "code",
   "execution_count": 3,
   "id": "77a5dbdd",
   "metadata": {},
   "outputs": [],
   "source": [
    "# Setup\n",
    "\n",
    "stocks = ['NVDA', 'ABBV', 'TTE', 'LUV']\n",
    "N = 255 # Number of trading days\n",
    "rf = 0.00833 #13-week US T-Bill rate as of April 26, 2022 (Yahoo Finance: ^IRX)\n"
   ]
  },
  {
   "cell_type": "code",
   "execution_count": 20,
   "id": "55bef986",
   "metadata": {},
   "outputs": [],
   "source": [
    "startdate = datetime(2013,1,1)\n",
    "enddate = datetime(2019,12,31)\n",
    "\n",
    "corrstartdate = datetime(2019,1,1)"
   ]
  },
  {
   "cell_type": "markdown",
   "id": "7bd8c56f",
   "metadata": {},
   "source": [
    "A shorter timeframe is used for the correlation analysis. A longer timeframe will show strong positive correlations across all stocks since the broad market, including the stocks in this portfolio, increased significantly.\n",
    "\n",
    "### <b><span style=\"color:red\"> **ABBV went public in 2013. Look for comparable stock or change start date from 2010 to 2013?</span></b>"
   ]
  },
  {
   "cell_type": "code",
   "execution_count": 5,
   "id": "0d82cab9",
   "metadata": {},
   "outputs": [
    {
     "name": "stdout",
     "output_type": "stream",
     "text": [
      "[*********************100%***********************]  4 of 4 completed\n"
     ]
    }
   ],
   "source": [
    "table = pdr.get_data_yahoo(stocks, data_source = 'yahoo', start = startdate, end = enddate)['Adj Close']"
   ]
  },
  {
   "cell_type": "code",
   "execution_count": 6,
   "id": "ada949c5",
   "metadata": {},
   "outputs": [
    {
     "data": {
      "text/html": [
       "<div>\n",
       "<style scoped>\n",
       "    .dataframe tbody tr th:only-of-type {\n",
       "        vertical-align: middle;\n",
       "    }\n",
       "\n",
       "    .dataframe tbody tr th {\n",
       "        vertical-align: top;\n",
       "    }\n",
       "\n",
       "    .dataframe thead th {\n",
       "        text-align: right;\n",
       "    }\n",
       "</style>\n",
       "<table border=\"1\" class=\"dataframe\">\n",
       "  <thead>\n",
       "    <tr style=\"text-align: right;\">\n",
       "      <th></th>\n",
       "      <th>ABBV</th>\n",
       "      <th>LUV</th>\n",
       "      <th>NVDA</th>\n",
       "      <th>TTE</th>\n",
       "    </tr>\n",
       "    <tr>\n",
       "      <th>Date</th>\n",
       "      <th></th>\n",
       "      <th></th>\n",
       "      <th></th>\n",
       "      <th></th>\n",
       "    </tr>\n",
       "  </thead>\n",
       "  <tbody>\n",
       "    <tr>\n",
       "      <th>2013-01-02</th>\n",
       "      <td>23.783300</td>\n",
       "      <td>9.779125</td>\n",
       "      <td>2.939527</td>\n",
       "      <td>30.516886</td>\n",
       "    </tr>\n",
       "    <tr>\n",
       "      <th>2013-01-03</th>\n",
       "      <td>23.586910</td>\n",
       "      <td>10.012629</td>\n",
       "      <td>2.941837</td>\n",
       "      <td>30.290489</td>\n",
       "    </tr>\n",
       "    <tr>\n",
       "      <th>2013-01-04</th>\n",
       "      <td>23.288944</td>\n",
       "      <td>10.162070</td>\n",
       "      <td>3.038897</td>\n",
       "      <td>30.365946</td>\n",
       "    </tr>\n",
       "    <tr>\n",
       "      <th>2013-01-07</th>\n",
       "      <td>23.336342</td>\n",
       "      <td>10.190095</td>\n",
       "      <td>2.951082</td>\n",
       "      <td>30.006031</td>\n",
       "    </tr>\n",
       "    <tr>\n",
       "      <th>2013-01-08</th>\n",
       "      <td>22.828447</td>\n",
       "      <td>10.302172</td>\n",
       "      <td>2.886374</td>\n",
       "      <td>29.942196</td>\n",
       "    </tr>\n",
       "  </tbody>\n",
       "</table>\n",
       "</div>"
      ],
      "text/plain": [
       "                 ABBV        LUV      NVDA        TTE\n",
       "Date                                                 \n",
       "2013-01-02  23.783300   9.779125  2.939527  30.516886\n",
       "2013-01-03  23.586910  10.012629  2.941837  30.290489\n",
       "2013-01-04  23.288944  10.162070  3.038897  30.365946\n",
       "2013-01-07  23.336342  10.190095  2.951082  30.006031\n",
       "2013-01-08  22.828447  10.302172  2.886374  29.942196"
      ]
     },
     "execution_count": 6,
     "metadata": {},
     "output_type": "execute_result"
    }
   ],
   "source": [
    "table.head()"
   ]
  },
  {
   "cell_type": "code",
   "execution_count": 7,
   "id": "1d6436d8",
   "metadata": {},
   "outputs": [],
   "source": [
    "df = table.pct_change().dropna()"
   ]
  },
  {
   "cell_type": "code",
   "execution_count": 8,
   "id": "d445cf63",
   "metadata": {},
   "outputs": [
    {
     "data": {
      "text/html": [
       "<div>\n",
       "<style scoped>\n",
       "    .dataframe tbody tr th:only-of-type {\n",
       "        vertical-align: middle;\n",
       "    }\n",
       "\n",
       "    .dataframe tbody tr th {\n",
       "        vertical-align: top;\n",
       "    }\n",
       "\n",
       "    .dataframe thead th {\n",
       "        text-align: right;\n",
       "    }\n",
       "</style>\n",
       "<table border=\"1\" class=\"dataframe\">\n",
       "  <thead>\n",
       "    <tr style=\"text-align: right;\">\n",
       "      <th></th>\n",
       "      <th>ABBV</th>\n",
       "      <th>LUV</th>\n",
       "      <th>NVDA</th>\n",
       "      <th>TTE</th>\n",
       "    </tr>\n",
       "    <tr>\n",
       "      <th>Date</th>\n",
       "      <th></th>\n",
       "      <th></th>\n",
       "      <th></th>\n",
       "      <th></th>\n",
       "    </tr>\n",
       "  </thead>\n",
       "  <tbody>\n",
       "    <tr>\n",
       "      <th>2013-01-03</th>\n",
       "      <td>-0.008257</td>\n",
       "      <td>0.023878</td>\n",
       "      <td>0.000786</td>\n",
       "      <td>-0.007419</td>\n",
       "    </tr>\n",
       "    <tr>\n",
       "      <th>2013-01-04</th>\n",
       "      <td>-0.012633</td>\n",
       "      <td>0.014925</td>\n",
       "      <td>0.032993</td>\n",
       "      <td>0.002491</td>\n",
       "    </tr>\n",
       "    <tr>\n",
       "      <th>2013-01-07</th>\n",
       "      <td>0.002035</td>\n",
       "      <td>0.002758</td>\n",
       "      <td>-0.028897</td>\n",
       "      <td>-0.011853</td>\n",
       "    </tr>\n",
       "    <tr>\n",
       "      <th>2013-01-08</th>\n",
       "      <td>-0.021764</td>\n",
       "      <td>0.010999</td>\n",
       "      <td>-0.021927</td>\n",
       "      <td>-0.002127</td>\n",
       "    </tr>\n",
       "    <tr>\n",
       "      <th>2013-01-09</th>\n",
       "      <td>0.005637</td>\n",
       "      <td>-0.002720</td>\n",
       "      <td>-0.022418</td>\n",
       "      <td>-0.000582</td>\n",
       "    </tr>\n",
       "  </tbody>\n",
       "</table>\n",
       "</div>"
      ],
      "text/plain": [
       "                ABBV       LUV      NVDA       TTE\n",
       "Date                                              \n",
       "2013-01-03 -0.008257  0.023878  0.000786 -0.007419\n",
       "2013-01-04 -0.012633  0.014925  0.032993  0.002491\n",
       "2013-01-07  0.002035  0.002758 -0.028897 -0.011853\n",
       "2013-01-08 -0.021764  0.010999 -0.021927 -0.002127\n",
       "2013-01-09  0.005637 -0.002720 -0.022418 -0.000582"
      ]
     },
     "execution_count": 8,
     "metadata": {},
     "output_type": "execute_result"
    }
   ],
   "source": [
    "df.head()"
   ]
  },
  {
   "cell_type": "code",
   "execution_count": 9,
   "id": "314f04f6",
   "metadata": {},
   "outputs": [],
   "source": [
    "def sharpe_ratio(return_series,N,rf):\n",
    "    mean=return_series.mean()*N-rf\n",
    "    sigma=return_series.std()*np.sqrt(N)\n",
    "    return mean/sigma\n",
    "\n",
    "sharpes = df.apply(sharpe_ratio,args=(N,rf),axis=0)\n"
   ]
  },
  {
   "cell_type": "code",
   "execution_count": 10,
   "id": "e88c2673",
   "metadata": {},
   "outputs": [],
   "source": [
    "def sortino_ratio(series,N,rf):\n",
    "    mean=series.mean()*N-rf\n",
    "    std_neg=series[series<0].std()*np.sqrt(N)\n",
    "    return mean/std_neg\n",
    "\n",
    "sortinos = df.apply(sortino_ratio,args=(N,rf,),axis=0)\n"
   ]
  },
  {
   "cell_type": "code",
   "execution_count": 11,
   "id": "3129903f",
   "metadata": {},
   "outputs": [],
   "source": [
    "def max_drawdown(return_series):\n",
    "    comp_ret=(return_series+1).cumprod()\n",
    "    peak = comp_ret.expanding(min_periods=1).max()\n",
    "    dd = (comp_ret/peak)-1\n",
    "    return dd.min()\n",
    "\n",
    "max_drawdowns = df.apply(max_drawdown,axis=0)\n"
   ]
  },
  {
   "cell_type": "code",
   "execution_count": 12,
   "id": "23989e99",
   "metadata": {},
   "outputs": [],
   "source": [
    "calmars =df.mean()*N/abs(max_drawdowns)"
   ]
  },
  {
   "cell_type": "code",
   "execution_count": 13,
   "id": "699e4f57",
   "metadata": {},
   "outputs": [
    {
     "data": {
      "text/html": [
       "<div>\n",
       "<style scoped>\n",
       "    .dataframe tbody tr th:only-of-type {\n",
       "        vertical-align: middle;\n",
       "    }\n",
       "\n",
       "    .dataframe tbody tr th {\n",
       "        vertical-align: top;\n",
       "    }\n",
       "\n",
       "    .dataframe thead th {\n",
       "        text-align: right;\n",
       "    }\n",
       "</style>\n",
       "<table border=\"1\" class=\"dataframe\">\n",
       "  <thead>\n",
       "    <tr style=\"text-align: right;\">\n",
       "      <th></th>\n",
       "      <th>ABBV</th>\n",
       "      <th>LUV</th>\n",
       "      <th>NVDA</th>\n",
       "      <th>TTE</th>\n",
       "    </tr>\n",
       "  </thead>\n",
       "  <tbody>\n",
       "    <tr>\n",
       "      <th>Sharpe Ratio</th>\n",
       "      <td>0.736371</td>\n",
       "      <td>1.017231</td>\n",
       "      <td>1.292505</td>\n",
       "      <td>0.345549</td>\n",
       "    </tr>\n",
       "    <tr>\n",
       "      <th>Sortino Ratio</th>\n",
       "      <td>0.945318</td>\n",
       "      <td>1.400369</td>\n",
       "      <td>1.822801</td>\n",
       "      <td>0.492752</td>\n",
       "    </tr>\n",
       "    <tr>\n",
       "      <th>Max Drawdown</th>\n",
       "      <td>-0.450898</td>\n",
       "      <td>-0.322948</td>\n",
       "      <td>-0.560384</td>\n",
       "      <td>-0.407697</td>\n",
       "    </tr>\n",
       "    <tr>\n",
       "      <th>Calmar Ratio</th>\n",
       "      <td>0.469026</td>\n",
       "      <td>0.880037</td>\n",
       "      <td>0.901361</td>\n",
       "      <td>0.206709</td>\n",
       "    </tr>\n",
       "  </tbody>\n",
       "</table>\n",
       "</div>"
      ],
      "text/plain": [
       "                   ABBV       LUV      NVDA       TTE\n",
       "Sharpe Ratio   0.736371  1.017231  1.292505  0.345549\n",
       "Sortino Ratio  0.945318  1.400369  1.822801  0.492752\n",
       "Max Drawdown  -0.450898 -0.322948 -0.560384 -0.407697\n",
       "Calmar Ratio   0.469026  0.880037  0.901361  0.206709"
      ]
     },
     "execution_count": 13,
     "metadata": {},
     "output_type": "execute_result"
    }
   ],
   "source": [
    "pd.DataFrame([sharpes, sortinos, max_drawdowns, calmars],\n",
    "             index=['Sharpe Ratio', 'Sortino Ratio', 'Max Drawdown', 'Calmar Ratio'])"
   ]
  },
  {
   "cell_type": "code",
   "execution_count": 14,
   "id": "9860c939",
   "metadata": {},
   "outputs": [
    {
     "data": {
      "image/png": "[encoded data removed]",
      "text/plain": [
       "<Figure size 576x576 with 4 Axes>"
      ]
     },
     "metadata": {
      "needs_background": "light"
     },
     "output_type": "display_data"
    }
   ],
   "source": [
    "fig = plt.figure(figsize = [8,8])\n",
    "\n",
    "plt.subplot(2, 2, 1)\n",
    "plt.title('Sharpe Ratio')\n",
    "sharpes.plot.bar()\n",
    "\n",
    "plt.subplot(2, 2, 2)\n",
    "plt.title('Sortino Ratio')\n",
    "sortinos.plot.bar()\n",
    "\n",
    "plt.subplot(2, 2, 3)\n",
    "plt.title('Max Drawdown')\n",
    "max_drawdowns.plot.bar()\n",
    "\n",
    "plt.subplot(2, 2, 4)\n",
    "plt.title('Calmar Ratio')\n",
    "calmars.plot.bar()\n",
    "\n",
    "fig.tight_layout()\n",
    "plt.show()"
   ]
  },
  {
   "cell_type": "markdown",
   "id": "4c092d26",
   "metadata": {},
   "source": [
    "### Correlation and Covariance"
   ]
  },
  {
   "cell_type": "code",
   "execution_count": 21,
   "id": "edd9fcdf",
   "metadata": {},
   "outputs": [
    {
     "name": "stdout",
     "output_type": "stream",
     "text": [
      "[*********************100%***********************]  4 of 4 completed\n"
     ]
    },
    {
     "data": {
      "text/html": [
       "<div>\n",
       "<style scoped>\n",
       "    .dataframe tbody tr th:only-of-type {\n",
       "        vertical-align: middle;\n",
       "    }\n",
       "\n",
       "    .dataframe tbody tr th {\n",
       "        vertical-align: top;\n",
       "    }\n",
       "\n",
       "    .dataframe thead th {\n",
       "        text-align: right;\n",
       "    }\n",
       "</style>\n",
       "<table border=\"1\" class=\"dataframe\">\n",
       "  <thead>\n",
       "    <tr style=\"text-align: right;\">\n",
       "      <th></th>\n",
       "      <th>ABBV</th>\n",
       "      <th>LUV</th>\n",
       "      <th>NVDA</th>\n",
       "      <th>TTE</th>\n",
       "    </tr>\n",
       "  </thead>\n",
       "  <tbody>\n",
       "    <tr>\n",
       "      <th>ABBV</th>\n",
       "      <td>1.000000</td>\n",
       "      <td>0.353886</td>\n",
       "      <td>0.508402</td>\n",
       "      <td>0.462152</td>\n",
       "    </tr>\n",
       "    <tr>\n",
       "      <th>LUV</th>\n",
       "      <td>0.353886</td>\n",
       "      <td>1.000000</td>\n",
       "      <td>0.571682</td>\n",
       "      <td>0.244620</td>\n",
       "    </tr>\n",
       "    <tr>\n",
       "      <th>NVDA</th>\n",
       "      <td>0.508402</td>\n",
       "      <td>0.571682</td>\n",
       "      <td>1.000000</td>\n",
       "      <td>0.259492</td>\n",
       "    </tr>\n",
       "    <tr>\n",
       "      <th>TTE</th>\n",
       "      <td>0.462152</td>\n",
       "      <td>0.244620</td>\n",
       "      <td>0.259492</td>\n",
       "      <td>1.000000</td>\n",
       "    </tr>\n",
       "  </tbody>\n",
       "</table>\n",
       "</div>"
      ],
      "text/plain": [
       "          ABBV       LUV      NVDA       TTE\n",
       "ABBV  1.000000  0.353886  0.508402  0.462152\n",
       "LUV   0.353886  1.000000  0.571682  0.244620\n",
       "NVDA  0.508402  0.571682  1.000000  0.259492\n",
       "TTE   0.462152  0.244620  0.259492  1.000000"
      ]
     },
     "execution_count": 21,
     "metadata": {},
     "output_type": "execute_result"
    }
   ],
   "source": [
    "corrtable = pdr.get_data_yahoo(stocks, data_source = 'yahoo', start = corrstartdate, end = enddate)['Adj Close']\n",
    "corr_df = corrtable.corr(method='pearson')\n",
    "\n",
    "# Swap symbols as Index\n",
    "corr_df.head().reset_index()\n",
    "corr_df.head()"
   ]
  },
  {
   "cell_type": "code",
   "execution_count": 22,
   "id": "0a595585",
   "metadata": {},
   "outputs": [
    {
     "data": {
      "image/png": "[encoded data removed]",
      "text/plain": [
       "<Figure size 432x288 with 2 Axes>"
      ]
     },
     "metadata": {
      "needs_background": "light"
     },
     "output_type": "display_data"
    }
   ],
   "source": [
    "# Correlation Heatmap\n",
    "\n",
    "seaborn.heatmap(corr_df, cmap='RdYlGn',vmax=1.0,vmin=-1.0,linewidths=2.1)\n",
    "plt.yticks(rotation=0)\n",
    "plt.xticks(rotation=90)\n",
    "plt.show()"
   ]
  },
  {
   "cell_type": "code",
   "execution_count": null,
   "id": "6afa250d",
   "metadata": {},
   "outputs": [],
   "source": []
  },
  {
   "cell_type": "code",
   "execution_count": null,
   "id": "af37f119",
   "metadata": {},
   "outputs": [],
   "source": []
  },
  {
   "cell_type": "code",
   "execution_count": null,
   "id": "2fc95f95",
   "metadata": {},
   "outputs": [],
   "source": []
  },
  {
   "cell_type": "code",
   "execution_count": null,
   "id": "2353d310",
   "metadata": {},
   "outputs": [],
   "source": []
  },
  {
   "cell_type": "code",
   "execution_count": null,
   "id": "29598a0d",
   "metadata": {},
   "outputs": [],
   "source": []
  },
  {
   "cell_type": "code",
   "execution_count": null,
   "id": "3a5d50ec",
   "metadata": {},
   "outputs": [],
   "source": []
  },
  {
   "cell_type": "code",
   "execution_count": null,
   "id": "e3a3d3c2",
   "metadata": {},
   "outputs": [],
   "source": [
    "# Code from week 7; modify for scenario analysis\n",
    "\n",
    "df = stocks.pct_change().dropna()\n",
    "df['port']=df.mean(axis=1)\n",
    "(df+1).cumprod().plot()\n",
    "\n",
    "(df+1).cumprod()[-1:]"
   ]
  },
  {
   "cell_type": "markdown",
   "id": "13c93cc4",
   "metadata": {},
   "source": [
    "•\tUnderstand & comment on the past performances of each stock in your portfolio.\n",
    "•\tUnderstand & comment on the covariance and correlation between each stock in your portfolio.\n",
    "•\tPerform price prediction using Monte Carlo analysis for each stock and comment on their outlook.\n"
   ]
  }
 ],
 "metadata": {
  "kernelspec": {
   "display_name": "Python 3 (ipykernel)",
   "language": "python",
   "name": "python3"
  },
  "language_info": {
   "codemirror_mode": {
    "name": "ipython",
    "version": 3
   },
   "file_extension": ".py",
   "mimetype": "text/x-python",
   "name": "python",
   "nbconvert_exporter": "python",
   "pygments_lexer": "ipython3",
   "version": "3.9.7"
  }
 },
 "nbformat": 4,
 "nbformat_minor": 5
}
